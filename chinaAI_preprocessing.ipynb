{
 "cells": [
  {
   "cell_type": "markdown",
   "metadata": {},
   "source": [
    "# Preprocessing of the data\n",
    "Pre-processing of the data involves the following steps:\n",
    "1. Cleaning up the dataset - checking for and removing NaN or NA values\n",
    "2. Fixing the date columns of the files from \"xx-yy-mm-dd\" format to python dateTime format\n",
    "3. Remove unnecessary columns\n",
    "4. Concatenate dataframes based on need\n",
    "5. Export preprocessed dataframe as csv (??)"
   ]
  },
  {
   "cell_type": "markdown",
   "metadata": {},
   "source": [
    "## Call the Libraries"
   ]
  },
  {
   "cell_type": "code",
   "execution_count": 1,
   "metadata": {},
   "outputs": [],
   "source": [
    "import pandas as pd\n",
    "import numpy as np\n",
    "import matplotlib.pyplot as plt\n",
    "from matplotlib.pyplot import figure\n",
    "from datetime import datetime\n",
    "from sklearn.model_selection import RandomizedSearchCV, train_test_split\n",
    "from sklearn.svm import SVR\n",
    "from sklearn.metrics import mean_absolute_error, mean_squared_error"
   ]
  },
  {
   "cell_type": "markdown",
   "metadata": {},
   "source": [
    "## Import the [data](https://drive.google.com/open?id=1G_StENIk74Ym4dGJ2cGy1uIzhHvbS10W)\n",
    "5 cities - City_A, City_B, City_C, City_D, City_E <br>\n",
    "6 files per city - density, grid_attr, infection, migration, transfer, weather"
   ]
  },
  {
   "cell_type": "code",
   "execution_count": 2,
   "metadata": {},
   "outputs": [],
   "source": [
    "# City A\n",
    "density_A = pd.read_csv(\"/Users/vineethjason/Desktop/chinaCompetitionAI/train_data/city_A/density.csv\")\n",
    "grid_attr_A = pd.read_csv(\"/Users/vineethjason/Desktop/chinaCompetitionAI/train_data/city_A/grid_attr.csv\")\n",
    "infection_A = pd.read_csv(\"/Users/vineethjason/Desktop/chinaCompetitionAI/train_data/city_A/infection.csv\")\n",
    "migration_A = pd.read_csv(\"/Users/vineethjason/Desktop/chinaCompetitionAI/train_data/city_A/migration.csv\")\n",
    "transfer_A = pd.read_csv(\"/Users/vineethjason/Desktop/chinaCompetitionAI/train_data/city_A/transfer.csv\")\n",
    "weather_A = pd.read_csv(\"/Users/vineethjason/Desktop/chinaCompetitionAI/train_data/city_A/weather.csv\")"
   ]
  },
  {
   "cell_type": "code",
   "execution_count": 3,
   "metadata": {},
   "outputs": [],
   "source": [
    "# City B\n",
    "density_B = pd.read_csv(\"/Users/vineethjason/Desktop/chinaCompetitionAI/train_data/city_B/density.csv\")\n",
    "grid_attr_B = pd.read_csv(\"/Users/vineethjason/Desktop/chinaCompetitionAI/train_data/city_B/grid_attr.csv\")\n",
    "infection_B = pd.read_csv(\"/Users/vineethjason/Desktop/chinaCompetitionAI/train_data/city_B/infection.csv\")\n",
    "migration_B = pd.read_csv(\"/Users/vineethjason/Desktop/chinaCompetitionAI/train_data/city_B/migration.csv\")\n",
    "transfer_B = pd.read_csv(\"/Users/vineethjason/Desktop/chinaCompetitionAI/train_data/city_B/transfer.csv\")\n",
    "weather_B = pd.read_csv(\"/Users/vineethjason/Desktop/chinaCompetitionAI/train_data/city_B/weather.csv\")"
   ]
  },
  {
   "cell_type": "code",
   "execution_count": 4,
   "metadata": {},
   "outputs": [],
   "source": [
    "# City C\n",
    "density_C = pd.read_csv(\"/Users/vineethjason/Desktop/chinaCompetitionAI/train_data/city_C/density.csv\")\n",
    "grid_attr_C = pd.read_csv(\"/Users/vineethjason/Desktop/chinaCompetitionAI/train_data/city_C/grid_attr.csv\")\n",
    "infection_C = pd.read_csv(\"/Users/vineethjason/Desktop/chinaCompetitionAI/train_data/city_C/infection.csv\")\n",
    "migration_C = pd.read_csv(\"/Users/vineethjason/Desktop/chinaCompetitionAI/train_data/city_C/migration.csv\")\n",
    "transfer_C = pd.read_csv(\"/Users/vineethjason/Desktop/chinaCompetitionAI/train_data/city_C/transfer.csv\")\n",
    "weather_C = pd.read_csv(\"/Users/vineethjason/Desktop/chinaCompetitionAI/train_data/city_C/weather.csv\")"
   ]
  },
  {
   "cell_type": "code",
   "execution_count": 5,
   "metadata": {},
   "outputs": [],
   "source": [
    "# City D\n",
    "density_D = pd.read_csv(\"/Users/vineethjason/Desktop/chinaCompetitionAI/train_data/city_D/density.csv\")\n",
    "grid_attr_D = pd.read_csv(\"/Users/vineethjason/Desktop/chinaCompetitionAI/train_data/city_D/grid_attr.csv\")\n",
    "infection_D = pd.read_csv(\"/Users/vineethjason/Desktop/chinaCompetitionAI/train_data/city_D/infection.csv\")\n",
    "migration_D = pd.read_csv(\"/Users/vineethjason/Desktop/chinaCompetitionAI/train_data/city_D/migration.csv\")\n",
    "transfer_D = pd.read_csv(\"/Users/vineethjason/Desktop/chinaCompetitionAI/train_data/city_D/transfer.csv\")\n",
    "weather_D = pd.read_csv(\"/Users/vineethjason/Desktop/chinaCompetitionAI/train_data/city_D/weather.csv\")"
   ]
  },
  {
   "cell_type": "code",
   "execution_count": 6,
   "metadata": {},
   "outputs": [],
   "source": [
    "# City E\n",
    "density_E = pd.read_csv(\"/Users/vineethjason/Desktop/chinaCompetitionAI/train_data/city_E/density.csv\")\n",
    "grid_attr_E = pd.read_csv(\"/Users/vineethjason/Desktop/chinaCompetitionAI/train_data/city_E/grid_attr.csv\")\n",
    "infection_E = pd.read_csv(\"/Users/vineethjason/Desktop/chinaCompetitionAI/train_data/city_E/infection.csv\")\n",
    "migration_E = pd.read_csv(\"/Users/vineethjason/Desktop/chinaCompetitionAI/train_data/city_E/migration.csv\")\n",
    "transfer_E = pd.read_csv(\"/Users/vineethjason/Desktop/chinaCompetitionAI/train_data/city_E/transfer.csv\")\n",
    "weather_E = pd.read_csv(\"/Users/vineethjason/Desktop/chinaCompetitionAI/train_data/city_E/weather.csv\")"
   ]
  },
  {
   "cell_type": "markdown",
   "metadata": {},
   "source": [
    "## Add Column Names\n",
    "Original files did not have column names - column names added from [here](https://aistudio.baidu.com/aistudio/competition/detail/36?alertTip=The%20invitation%20code%20has%20been%20used%2C%20please%20get%20a%20new%20one.&lang=en&ticket=4976003d8f3746f4ad5728da43650b90)"
   ]
  },
  {
   "cell_type": "code",
   "execution_count": 7,
   "metadata": {},
   "outputs": [],
   "source": [
    "# column names:\n",
    "density_columns = [\"date\",\"hour\",\"longitude\",\"latitude\",\"population_flow_index\"]\n",
    "grid_attr_columns = [\"grid_x\",\"grid_y\",\"region_id\"]\n",
    "infection_columns = [\"city_id\",\"region_id\",\"date\",\"number_of_newly_infected_persons\"]\n",
    "migration_columns = [\"migration_date\",\"migration_departure_city\",\"migration_arrival_city\",\"migration_scale_index\"]\n",
    "transfer_columns = [\"hour\",\"longitude_of_departure\",\"latitude_departure\",\"longitude_arrival\",\"latitude_arrival\",\"transfer_intensity\"]\n",
    "weather_columns = [\"date\",\"hour\",\"temperature\",\"humidity\",\"wind_direction\",\"wind_speed\",\"wind_force\",\"weather\"]\n",
    "\n",
    "# City A\n",
    "density_A.columns = density_columns\n",
    "grid_attr_A.columns = grid_attr_columns\n",
    "infection_A.columns = infection_columns\n",
    "migration_A.columns = migration_columns\n",
    "transfer_A.columns = transfer_columns\n",
    "weather_A.columns = weather_columns\n",
    "\n",
    "# City B\n",
    "density_B.columns = density_columns\n",
    "grid_attr_B.columns = grid_attr_columns\n",
    "infection_B.columns = infection_columns\n",
    "migration_B.columns = migration_columns\n",
    "transfer_B.columns = transfer_columns\n",
    "weather_B.columns = weather_columns\n",
    "\n",
    "# City C\n",
    "density_C.columns = density_columns\n",
    "grid_attr_C.columns = grid_attr_columns\n",
    "infection_C.columns = infection_columns\n",
    "migration_C.columns = migration_columns\n",
    "transfer_C.columns = transfer_columns\n",
    "weather_C.columns = weather_columns\n",
    "\n",
    "# City D\n",
    "density_D.columns = density_columns\n",
    "grid_attr_D.columns = grid_attr_columns\n",
    "infection_D.columns = infection_columns\n",
    "migration_D.columns = migration_columns\n",
    "transfer_D.columns = transfer_columns\n",
    "weather_D.columns = weather_columns\n",
    "\n",
    "# City E\n",
    "density_E.columns = density_columns\n",
    "grid_attr_E.columns = grid_attr_columns\n",
    "infection_E.columns = infection_columns\n",
    "migration_E.columns = migration_columns\n",
    "transfer_E.columns = transfer_columns\n",
    "weather_E.columns = weather_columns"
   ]
  },
  {
   "cell_type": "markdown",
   "metadata": {},
   "source": [
    "## Checking Dimensions of data\n",
    "Check the dimensions of the data to see how each dataframe is distributed"
   ]
  },
  {
   "cell_type": "code",
   "execution_count": 8,
   "metadata": {},
   "outputs": [
    {
     "name": "stdout",
     "output_type": "stream",
     "text": [
      "(35906204, 5)\n",
      "(11799, 3)\n",
      "(5309, 4)\n",
      "(359, 4)\n",
      "(5670547, 6)\n",
      "(1079, 8)\n",
      "(20518124, 5)\n",
      "(2991, 3)\n",
      "(1349, 4)\n",
      "(359, 4)\n",
      "(1643953, 6)\n",
      "(1079, 8)\n",
      "(23761672, 5)\n",
      "(13499, 3)\n",
      "(6074, 4)\n",
      "(359, 4)\n",
      "(3808928, 6)\n",
      "(1079, 8)\n",
      "(25368550, 5)\n",
      "(7499, 3)\n",
      "(3374, 4)\n",
      "(359, 4)\n",
      "(3258700, 6)\n",
      "(1079, 8)\n",
      "(11019371, 5)\n",
      "(3399, 3)\n",
      "(1529, 4)\n",
      "(359, 4)\n",
      "(776609, 6)\n",
      "(1079, 8)\n"
     ]
    }
   ],
   "source": [
    "# City A\n",
    "print(density_A.shape)\n",
    "print(grid_attr_A.shape)\n",
    "print(infection_A.shape)\n",
    "print(migration_A.shape)\n",
    "print(transfer_A.shape)\n",
    "print(weather_A.shape)\n",
    "\n",
    "# City B\n",
    "print(density_B.shape)\n",
    "print(grid_attr_B.shape)\n",
    "print(infection_B.shape)\n",
    "print(migration_B.shape)\n",
    "print(transfer_B.shape)\n",
    "print(weather_B.shape)\n",
    "\n",
    "# City C\n",
    "print(density_C.shape)\n",
    "print(grid_attr_C.shape)\n",
    "print(infection_C.shape)\n",
    "print(migration_C.shape)\n",
    "print(transfer_C.shape)\n",
    "print(weather_C.shape)\n",
    "\n",
    "# City D\n",
    "print(density_D.shape)\n",
    "print(grid_attr_D.shape)\n",
    "print(infection_D.shape)\n",
    "print(migration_D.shape)\n",
    "print(transfer_D.shape)\n",
    "print(weather_D.shape)\n",
    "\n",
    "# City E\n",
    "print(density_E.shape)\n",
    "print(grid_attr_E.shape)\n",
    "print(infection_E.shape)\n",
    "print(migration_E.shape)\n",
    "print(transfer_E.shape)\n",
    "print(weather_E.shape)"
   ]
  },
  {
   "cell_type": "markdown",
   "metadata": {},
   "source": [
    "## Convert 'date' column to true dateTime format\n",
    "convert the date column values from 'xx-yy-mm-dd' format to python dateTime format using the 'datetime' package\n",
    "Datasets with date column:\n",
    "1. density.csv\n",
    "2. infection.csv\n",
    "3. migration.csv\n",
    "4. weather.csv\n",
    "\n",
    "Removes the original 'date' column and replaces it with 'dateTimeTrue' column where applicable ('migration_date' to 'migrationDateTimeTrue')"
   ]
  },
  {
   "cell_type": "markdown",
   "metadata": {},
   "source": [
    "### City A"
   ]
  },
  {
   "cell_type": "code",
   "execution_count": 9,
   "metadata": {},
   "outputs": [],
   "source": [
    "# Density\n",
    "density_A.date = density_A.date.apply(str)\n",
    "density_A[\"newDate\"] = density_A.date.str[2:]\n",
    "dateList_A = density_A[\"newDate\"].tolist()\n",
    "newDateList_A = []\n",
    "\n",
    "for d in dateList_A:\n",
    "    dates_A = datetime.strptime(d, '%y%m%d')\n",
    "    newDateList_A.append(dates_A)\n",
    "\n",
    "density_A[\"dateTimeTrue\"] = newDateList_A\n",
    "density_A = density_A.loc[:, [\"dateTimeTrue\",\"hour\",\"longitude\",\"latitude\",\"population_flow_index\"]]"
   ]
  },
  {
   "cell_type": "code",
   "execution_count": 11,
   "metadata": {},
   "outputs": [],
   "source": [
    "# Infection\n",
    "infection_A.date = infection_A.date.apply(str)\n",
    "infection_A[\"newDate\"] = infection_A.date.str[2:]\n",
    "dateList_A = infection_A[\"newDate\"].tolist()\n",
    "newDateList_A = []\n",
    "\n",
    "for d in dateList_A:\n",
    "    dates_A = datetime.strptime(d, '%y%m%d')\n",
    "    newDateList_A.append(dates_A)\n",
    "\n",
    "infection_A[\"dateTimeTrue\"] = newDateList_A\n",
    "infection_A = infection_A.loc[:, [\"city_id\",\"region_id\",\"dateTimeTrue\",\"number_of_newly_infected_persons\"]]"
   ]
  },
  {
   "cell_type": "code",
   "execution_count": 14,
   "metadata": {},
   "outputs": [],
   "source": [
    "# Migration\n",
    "migration_A.migration_date = migration_A.migration_date.apply(str)\n",
    "migration_A[\"newMigrationDate\"] = migration_A.migration_date.str[2:]\n",
    "dateList_A = migration_A[\"newMigrationDate\"].tolist()\n",
    "newDateList_A = []\n",
    "\n",
    "for d in dateList_A:\n",
    "    dates_A = datetime.strptime(d, '%y%m%d')\n",
    "    newDateList_A.append(dates_A)\n",
    "\n",
    "migration_A[\"migrationDateTimeTrue\"] = newDateList_A\n",
    "migration_A = migration_A.loc[:, [\"migrationDateTimeTrue\",\"migration_departure_city\",\"migration_arrival_city\",\"migration_scale_index\"]]"
   ]
  },
  {
   "cell_type": "code",
   "execution_count": 15,
   "metadata": {},
   "outputs": [],
   "source": [
    "# Weather\n",
    "weather_A.date = weather_A.date.apply(str)\n",
    "weather_A[\"newDate\"] = weather_A.date.str[2:]\n",
    "dateList_A = weather_A[\"newDate\"].tolist()\n",
    "newDateList_A = []\n",
    "\n",
    "for d in dateList_A:\n",
    "    dates_A = datetime.strptime(d, '%y%m%d')\n",
    "    newDateList_A.append(dates_A)\n",
    "\n",
    "weather_A[\"dateTimeTrue\"] = newDateList_A\n",
    "weather_A = weather_A.loc[:, [\"dateTimeTrue\",\"hour\",\"temperature\",\"humidity\",\"wind_direction\",\"wind_speed\",\"wind_force\",\"weather\"]]"
   ]
  },
  {
   "cell_type": "markdown",
   "metadata": {},
   "source": [
    "### City B"
   ]
  },
  {
   "cell_type": "code",
   "execution_count": 30,
   "metadata": {},
   "outputs": [],
   "source": [
    "# Density\n",
    "density_B.date = density_B.date.apply(str)\n",
    "density_B[\"newDate\"] = density_B.date.str[2:]\n",
    "dateList_B = density_B[\"newDate\"].tolist()\n",
    "newDateList_B = []\n",
    "\n",
    "for d in dateList_B:\n",
    "    dates_B = datetime.strptime(d, '%y%m%d')\n",
    "    newDateList_B.append(dates_B)\n",
    "\n",
    "density_B[\"dateTimeTrue\"] = newDateList_B\n",
    "density_B = density_B.loc[:, [\"dateTimeTrue\",\"hour\",\"longitude\",\"latitude\",\"population_flow_index\"]]"
   ]
  },
  {
   "cell_type": "code",
   "execution_count": 18,
   "metadata": {},
   "outputs": [],
   "source": [
    "# Infection\n",
    "infection_B.date = infection_B.date.apply(str)\n",
    "infection_B[\"newDate\"] = infection_B.date.str[2:]\n",
    "dateList_B = infection_B[\"newDate\"].tolist()\n",
    "newDateList_B = []\n",
    "\n",
    "for d in dateList_B:\n",
    "    dates_B = datetime.strptime(d, '%y%m%d')\n",
    "    newDateList_B.append(dates_B)\n",
    "\n",
    "infection_B[\"dateTimeTrue\"] = newDateList_B\n",
    "infection_B = infection_B.loc[:, [\"city_id\",\"region_id\",\"dateTimeTrue\",\"number_of_newly_infected_persons\"]]"
   ]
  },
  {
   "cell_type": "code",
   "execution_count": 19,
   "metadata": {},
   "outputs": [],
   "source": [
    "# Migration\n",
    "migration_B.migration_date = migration_B.migration_date.apply(str)\n",
    "migration_B[\"newMigrationDate\"] = migration_B.migration_date.str[2:]\n",
    "dateList_B = migration_B[\"newMigrationDate\"].tolist()\n",
    "newDateList_B = []\n",
    "\n",
    "for d in dateList_B:\n",
    "    dates_B = datetime.strptime(d, '%y%m%d')\n",
    "    newDateList_B.append(dates_B)\n",
    "\n",
    "migration_B[\"migrationDateTimeTrue\"] = newDateList_B\n",
    "migration_B = migration_B.loc[:, [\"migrationDateTimeTrue\",\"migration_departure_city\",\"migration_arrival_city\",\"migration_scale_index\"]]"
   ]
  },
  {
   "cell_type": "code",
   "execution_count": 20,
   "metadata": {},
   "outputs": [],
   "source": [
    "# Weather\n",
    "weather_B.date = weather_B.date.apply(str)\n",
    "weather_B[\"newDate\"] = weather_B.date.str[2:]\n",
    "dateList_B = weather_B[\"newDate\"].tolist()\n",
    "newDateList_B = []\n",
    "\n",
    "for d in dateList_B:\n",
    "    dates_B = datetime.strptime(d, '%y%m%d')\n",
    "    newDateList_B.append(dates_B)\n",
    "\n",
    "weather_B[\"dateTimeTrue\"] = newDateList_B\n",
    "weather_B = weather_B.loc[:, [\"dateTimeTrue\",\"hour\",\"temperature\",\"humidity\",\"wind_direction\",\"wind_speed\",\"wind_force\",\"weather\"]]"
   ]
  },
  {
   "cell_type": "markdown",
   "metadata": {},
   "source": [
    "### City C"
   ]
  },
  {
   "cell_type": "code",
   "execution_count": 31,
   "metadata": {},
   "outputs": [],
   "source": [
    "# Density\n",
    "density_C.date = density_C.date.apply(str)\n",
    "density_C[\"newDate\"] = density_C.date.str[2:]\n",
    "dateList_C = density_C[\"newDate\"].tolist()\n",
    "newDateList_C = []\n",
    "\n",
    "for d in dateList_C:\n",
    "    dates_C = datetime.strptime(d, '%y%m%d')\n",
    "    newDateList_C.append(dates_C)\n",
    "\n",
    "density_C[\"dateTimeTrue\"] = newDateList_C\n",
    "density_C = density_C.loc[:, [\"dateTimeTrue\",\"hour\",\"longitude\",\"latitude\",\"population_flow_index\"]]"
   ]
  },
  {
   "cell_type": "code",
   "execution_count": 21,
   "metadata": {},
   "outputs": [],
   "source": [
    "# Infection\n",
    "infection_C.date = infection_C.date.apply(str)\n",
    "infection_C[\"newDate\"] = infection_C.date.str[2:]\n",
    "dateList_C = infection_C[\"newDate\"].tolist()\n",
    "newDateList_C = []\n",
    "\n",
    "for d in dateList_C:\n",
    "    dates_C = datetime.strptime(d, '%y%m%d')\n",
    "    newDateList_C.append(dates_C)\n",
    "\n",
    "infection_C[\"dateTimeTrue\"] = newDateList_C\n",
    "infection_C = infection_C.loc[:, [\"city_id\",\"region_id\",\"dateTimeTrue\",\"number_of_newly_infected_persons\"]]"
   ]
  },
  {
   "cell_type": "code",
   "execution_count": 22,
   "metadata": {},
   "outputs": [],
   "source": [
    "# Migration\n",
    "migration_C.migration_date = migration_C.migration_date.apply(str)\n",
    "migration_C[\"newMigrationDate\"] = migration_C.migration_date.str[2:]\n",
    "dateList_C = migration_C[\"newMigrationDate\"].tolist()\n",
    "newDateList_C = []\n",
    "\n",
    "for d in dateList_C:\n",
    "    dates_C = datetime.strptime(d, '%y%m%d')\n",
    "    newDateList_C.append(dates_C)\n",
    "\n",
    "migration_C[\"migrationDateTimeTrue\"] = newDateList_C\n",
    "migration_C = migration_C.loc[:, [\"migrationDateTimeTrue\",\"migration_departure_city\",\"migration_arrival_city\",\"migration_scale_index\"]]"
   ]
  },
  {
   "cell_type": "code",
   "execution_count": 23,
   "metadata": {},
   "outputs": [],
   "source": [
    "# Weather\n",
    "weather_C.date = weather_C.date.apply(str)\n",
    "weather_C[\"newDate\"] = weather_C.date.str[2:]\n",
    "dateList_C = weather_C[\"newDate\"].tolist()\n",
    "newDateList_C = []\n",
    "\n",
    "for d in dateList_C:\n",
    "    dates_C = datetime.strptime(d, '%y%m%d')\n",
    "    newDateList_C.append(dates_C)\n",
    "\n",
    "weather_C[\"dateTimeTrue\"] = newDateList_C\n",
    "weather_C = weather_C.loc[:, [\"dateTimeTrue\",\"hour\",\"temperature\",\"humidity\",\"wind_direction\",\"wind_speed\",\"wind_force\",\"weather\"]]"
   ]
  },
  {
   "cell_type": "markdown",
   "metadata": {},
   "source": [
    "### City D"
   ]
  },
  {
   "cell_type": "code",
   "execution_count": 32,
   "metadata": {},
   "outputs": [],
   "source": [
    "# Density\n",
    "density_D.date = density_D.date.apply(str)\n",
    "density_D[\"newDate\"] = density_D.date.str[2:]\n",
    "dateList_D = density_D[\"newDate\"].tolist()\n",
    "newDateList_D = []\n",
    "\n",
    "for d in dateList_D:\n",
    "    dates_D = datetime.strptime(d, '%y%m%d')\n",
    "    newDateList_D.append(dates_D)\n",
    "\n",
    "density_D[\"dateTimeTrue\"] = newDateList_D\n",
    "density_D = density_D.loc[:, [\"dateTimeTrue\",\"hour\",\"longitude\",\"latitude\",\"population_flow_index\"]]"
   ]
  },
  {
   "cell_type": "code",
   "execution_count": 24,
   "metadata": {},
   "outputs": [],
   "source": [
    "# Infection\n",
    "infection_D.date = infection_D.date.apply(str)\n",
    "infection_D[\"newDate\"] = infection_D.date.str[2:]\n",
    "dateList_D = infection_D[\"newDate\"].tolist()\n",
    "newDateList_D = []\n",
    "\n",
    "for d in dateList_D:\n",
    "    dates_D = datetime.strptime(d, '%y%m%d')\n",
    "    newDateList_D.append(dates_D)\n",
    "\n",
    "infection_D[\"dateTimeTrue\"] = newDateList_D\n",
    "infection_D = infection_D.loc[:, [\"city_id\",\"region_id\",\"dateTimeTrue\",\"number_of_newly_infected_persons\"]]"
   ]
  },
  {
   "cell_type": "code",
   "execution_count": 25,
   "metadata": {},
   "outputs": [],
   "source": [
    "# Migration\n",
    "migration_D.migration_date = migration_D.migration_date.apply(str)\n",
    "migration_D[\"newMigrationDate\"] = migration_D.migration_date.str[2:]\n",
    "dateList_D = migration_D[\"newMigrationDate\"].tolist()\n",
    "newDateList_D = []\n",
    "\n",
    "for d in dateList_D:\n",
    "    dates_D = datetime.strptime(d, '%y%m%d')\n",
    "    newDateList_D.append(dates_D)\n",
    "\n",
    "migration_D[\"migrationDateTimeTrue\"] = newDateList_D\n",
    "migration_D = migration_D.loc[:, [\"migrationDateTimeTrue\",\"migration_departure_city\",\"migration_arrival_city\",\"migration_scale_index\"]]"
   ]
  },
  {
   "cell_type": "code",
   "execution_count": 26,
   "metadata": {},
   "outputs": [],
   "source": [
    "# Weather\n",
    "weather_D.date = weather_D.date.apply(str)\n",
    "weather_D[\"newDate\"] = weather_D.date.str[2:]\n",
    "dateList_D = weather_D[\"newDate\"].tolist()\n",
    "newDateList_D = []\n",
    "\n",
    "for d in dateList_D:\n",
    "    dates_D = datetime.strptime(d, '%y%m%d')\n",
    "    newDateList_D.append(dates_D)\n",
    "\n",
    "weather_D[\"dateTimeTrue\"] = newDateList_D\n",
    "weather_D = weather_D.loc[:, [\"dateTimeTrue\",\"hour\",\"temperature\",\"humidity\",\"wind_direction\",\"wind_speed\",\"wind_force\",\"weather\"]]"
   ]
  },
  {
   "cell_type": "markdown",
   "metadata": {},
   "source": [
    "### City E"
   ]
  },
  {
   "cell_type": "code",
   "execution_count": 33,
   "metadata": {},
   "outputs": [],
   "source": [
    "# Density\n",
    "density_E.date = density_E.date.apply(str)\n",
    "density_E[\"newDate\"] = density_E.date.str[2:]\n",
    "dateList_E = density_E[\"newDate\"].tolist()\n",
    "newDateList_E = []\n",
    "\n",
    "for d in dateList_E:\n",
    "    dates_E = datetime.strptime(d, '%y%m%d')\n",
    "    newDateList_E.append(dates_E)\n",
    "\n",
    "density_E[\"dateTimeTrue\"] = newDateList_E\n",
    "density_E = density_E.loc[:, [\"dateTimeTrue\",\"hour\",\"longitude\",\"latitude\",\"population_flow_index\"]]"
   ]
  },
  {
   "cell_type": "code",
   "execution_count": 27,
   "metadata": {},
   "outputs": [],
   "source": [
    "# Infection\n",
    "infection_E.date = infection_E.date.apply(str)\n",
    "infection_E[\"newDate\"] = infection_E.date.str[2:]\n",
    "dateList_E = infection_E[\"newDate\"].tolist()\n",
    "newDateList_E = []\n",
    "\n",
    "for d in dateList_E:\n",
    "    dates_E = datetime.strptime(d, '%y%m%d')\n",
    "    newDateList_E.append(dates_E)\n",
    "\n",
    "infection_E[\"dateTimeTrue\"] = newDateList_E\n",
    "infection_E = infection_E.loc[:, [\"city_id\",\"region_id\",\"dateTimeTrue\",\"number_of_newly_infected_persons\"]]"
   ]
  },
  {
   "cell_type": "code",
   "execution_count": 28,
   "metadata": {},
   "outputs": [],
   "source": [
    "# Migration\n",
    "migration_E.migration_date = migration_E.migration_date.apply(str)\n",
    "migration_E[\"newMigrationDate\"] = migration_E.migration_date.str[2:]\n",
    "dateList_E = migration_E[\"newMigrationDate\"].tolist()\n",
    "newDateList_E = []\n",
    "\n",
    "for d in dateList_E:\n",
    "    dates_E = datetime.strptime(d, '%y%m%d')\n",
    "    newDateList_E.append(dates_E)\n",
    "\n",
    "migration_E[\"migrationDateTimeTrue\"] = newDateList_E\n",
    "migration_E = migration_E.loc[:, [\"migrationDateTimeTrue\",\"migration_departure_city\",\"migration_arrival_city\",\"migration_scale_index\"]]"
   ]
  },
  {
   "cell_type": "code",
   "execution_count": 29,
   "metadata": {},
   "outputs": [],
   "source": [
    "# Weather\n",
    "weather_E.date = weather_E.date.apply(str)\n",
    "weather_E[\"newDate\"] = weather_E.date.str[2:]\n",
    "dateList_E = weather_E[\"newDate\"].tolist()\n",
    "newDateList_E = []\n",
    "\n",
    "for d in dateList_E:\n",
    "    dates_E = datetime.strptime(d, '%y%m%d')\n",
    "    newDateList_E.append(dates_E)\n",
    "\n",
    "weather_E[\"dateTimeTrue\"] = newDateList_E\n",
    "weather_E = weather_E.loc[:, [\"dateTimeTrue\",\"hour\",\"temperature\",\"humidity\",\"wind_direction\",\"wind_speed\",\"wind_force\",\"weather\"]]"
   ]
  },
  {
   "cell_type": "markdown",
   "metadata": {},
   "source": [
    "## Concatenate Dataframes\n",
    "Dataframes are aggregated based on (??)"
   ]
  },
  {
   "cell_type": "code",
   "execution_count": null,
   "metadata": {},
   "outputs": [],
   "source": []
  }
 ],
 "metadata": {
  "kernelspec": {
   "display_name": "Python 3",
   "language": "python",
   "name": "python3"
  },
  "language_info": {
   "codemirror_mode": {
    "name": "ipython",
    "version": 3
   },
   "file_extension": ".py",
   "mimetype": "text/x-python",
   "name": "python",
   "nbconvert_exporter": "python",
   "pygments_lexer": "ipython3",
   "version": "3.7.4"
  }
 },
 "nbformat": 4,
 "nbformat_minor": 2
}
